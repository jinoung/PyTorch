{
 "cells": [
  {
   "cell_type": "code",
   "execution_count": 2,
   "metadata": {},
   "outputs": [],
   "source": [
    "import torch\n",
    "import torch.optim as optim\n",
    "import numpy as np"
   ]
  },
  {
   "cell_type": "code",
   "execution_count": 3,
   "metadata": {},
   "outputs": [
    {
     "data": {
      "text/plain": [
       "<torch._C.Generator at 0x1dbbc0ef210>"
      ]
     },
     "execution_count": 3,
     "metadata": {},
     "output_type": "execute_result"
    }
   ],
   "source": [
    "# Random seed to make results deterministic and reproducible\n",
    "torch.manual_seed(0)"
   ]
  },
  {
   "cell_type": "code",
   "execution_count": 7,
   "metadata": {},
   "outputs": [
    {
     "data": {
      "text/plain": [
       "{' ', 'a', 'f', 'i', 'n', 'o', 't', 'u', 'w', 'y'}"
      ]
     },
     "execution_count": 7,
     "metadata": {},
     "output_type": "execute_result"
    }
   ],
   "source": [
    "sample = \" if you want you\"\n",
    "set(sample) #set data에서는 순서는 의미가 없다."
   ]
  },
  {
   "cell_type": "code",
   "execution_count": 8,
   "metadata": {},
   "outputs": [
    {
     "name": "stdout",
     "output_type": "stream",
     "text": [
      "['t', 'n', 'u', ' ', 'f', 'o', 'y', 'i', 'w', 'a']\n",
      "{'t': 0, 'n': 1, 'u': 2, ' ': 3, 'f': 4, 'o': 5, 'y': 6, 'i': 7, 'w': 8, 'a': 9}\n"
     ]
    }
   ],
   "source": [
    "# make dictionary\n",
    "char_set = list(set(sample))\n",
    "print(char_set)\n",
    "char_dic = {c: i for i, c in enumerate(char_set)}\n",
    "print(char_dic)"
   ]
  },
  {
   "cell_type": "code",
   "execution_count": 11,
   "metadata": {},
   "outputs": [],
   "source": [
    "# hyper parameters\n",
    "dic_size = len(char_dic)\n",
    "hidden_size = len(char_dic)\n",
    "learning_rate = 0.1"
   ]
  },
  {
   "cell_type": "code",
   "execution_count": 17,
   "metadata": {},
   "outputs": [
    {
     "data": {
      "text/plain": [
       "array([[1., 0., 0.],\n",
       "       [0., 1., 0.],\n",
       "       [0., 0., 1.]])"
      ]
     },
     "execution_count": 17,
     "metadata": {},
     "output_type": "execute_result"
    }
   ],
   "source": [
    "np.identity(3)"
   ]
  },
  {
   "cell_type": "code",
   "execution_count": 18,
   "metadata": {},
   "outputs": [
    {
     "data": {
      "text/plain": [
       "array([[1., 0., 0.],\n",
       "       [0., 1., 0.],\n",
       "       [0., 0., 1.]])"
      ]
     },
     "execution_count": 18,
     "metadata": {},
     "output_type": "execute_result"
    }
   ],
   "source": [
    "np.eye(3, k=0, dtype=float)"
   ]
  },
  {
   "cell_type": "code",
   "execution_count": 19,
   "metadata": {},
   "outputs": [
    {
     "data": {
      "text/plain": [
       "array([[0., 1., 0.],\n",
       "       [0., 0., 1.],\n",
       "       [0., 0., 0.]])"
      ]
     },
     "execution_count": 19,
     "metadata": {},
     "output_type": "execute_result"
    }
   ],
   "source": [
    "np.eye(3, k=1, dtype=float)"
   ]
  },
  {
   "cell_type": "code",
   "execution_count": 20,
   "metadata": {},
   "outputs": [
    {
     "data": {
      "text/plain": [
       "array([[0., 0., 0.],\n",
       "       [1., 0., 0.],\n",
       "       [0., 1., 0.]])"
      ]
     },
     "execution_count": 20,
     "metadata": {},
     "output_type": "execute_result"
    }
   ],
   "source": [
    "np.eye(3, k=-1, dtype=float)"
   ]
  },
  {
   "cell_type": "code",
   "execution_count": 23,
   "metadata": {},
   "outputs": [
    {
     "data": {
      "text/plain": [
       "array([[1., 0., 0., 0., 0., 0., 0., 0., 0., 0.],\n",
       "       [0., 1., 0., 0., 0., 0., 0., 0., 0., 0.],\n",
       "       [0., 0., 1., 0., 0., 0., 0., 0., 0., 0.],\n",
       "       [0., 0., 0., 1., 0., 0., 0., 0., 0., 0.],\n",
       "       [0., 0., 0., 0., 1., 0., 0., 0., 0., 0.],\n",
       "       [0., 0., 0., 0., 0., 1., 0., 0., 0., 0.],\n",
       "       [0., 0., 0., 0., 0., 0., 1., 0., 0., 0.],\n",
       "       [0., 0., 0., 0., 0., 0., 0., 1., 0., 0.],\n",
       "       [0., 0., 0., 0., 0., 0., 0., 0., 1., 0.],\n",
       "       [0., 0., 0., 0., 0., 0., 0., 0., 0., 1.]])"
      ]
     },
     "execution_count": 23,
     "metadata": {},
     "output_type": "execute_result"
    }
   ],
   "source": [
    "np.eye(10)"
   ]
  },
  {
   "cell_type": "code",
   "execution_count": 24,
   "metadata": {},
   "outputs": [
    {
     "data": {
      "text/plain": [
       "array([0., 0., 0., 1., 0., 0., 0., 0., 0., 0.])"
      ]
     },
     "execution_count": 24,
     "metadata": {},
     "output_type": "execute_result"
    }
   ],
   "source": [
    "np.eye(10)[3]"
   ]
  },
  {
   "cell_type": "code",
   "execution_count": 25,
   "metadata": {},
   "outputs": [],
   "source": [
    "# data setting\n",
    "sample_idx = [char_dic[c] for c in sample]\n",
    "x_data = [sample_idx[:-1]]\n",
    "x_one_hot = [np.eye(dic_size)[x] for x in x_data]\n",
    "y_data = [sample_idx[1:]]"
   ]
  },
  {
   "cell_type": "code",
   "execution_count": 26,
   "metadata": {},
   "outputs": [
    {
     "data": {
      "text/plain": [
       "[[3, 7, 4, 3, 6, 5, 2, 3, 8, 9, 1, 0, 3, 6, 5]]"
      ]
     },
     "execution_count": 26,
     "metadata": {},
     "output_type": "execute_result"
    }
   ],
   "source": [
    "x_data"
   ]
  },
  {
   "cell_type": "code",
   "execution_count": 27,
   "metadata": {},
   "outputs": [
    {
     "data": {
      "text/plain": [
       "[array([[0., 0., 0., 1., 0., 0., 0., 0., 0., 0.],\n",
       "        [0., 0., 0., 0., 0., 0., 0., 1., 0., 0.],\n",
       "        [0., 0., 0., 0., 1., 0., 0., 0., 0., 0.],\n",
       "        [0., 0., 0., 1., 0., 0., 0., 0., 0., 0.],\n",
       "        [0., 0., 0., 0., 0., 0., 1., 0., 0., 0.],\n",
       "        [0., 0., 0., 0., 0., 1., 0., 0., 0., 0.],\n",
       "        [0., 0., 1., 0., 0., 0., 0., 0., 0., 0.],\n",
       "        [0., 0., 0., 1., 0., 0., 0., 0., 0., 0.],\n",
       "        [0., 0., 0., 0., 0., 0., 0., 0., 1., 0.],\n",
       "        [0., 0., 0., 0., 0., 0., 0., 0., 0., 1.],\n",
       "        [0., 1., 0., 0., 0., 0., 0., 0., 0., 0.],\n",
       "        [1., 0., 0., 0., 0., 0., 0., 0., 0., 0.],\n",
       "        [0., 0., 0., 1., 0., 0., 0., 0., 0., 0.],\n",
       "        [0., 0., 0., 0., 0., 0., 1., 0., 0., 0.],\n",
       "        [0., 0., 0., 0., 0., 1., 0., 0., 0., 0.]])]"
      ]
     },
     "execution_count": 27,
     "metadata": {},
     "output_type": "execute_result"
    }
   ],
   "source": [
    "x_one_hot"
   ]
  },
  {
   "cell_type": "code",
   "execution_count": 28,
   "metadata": {},
   "outputs": [
    {
     "data": {
      "text/plain": [
       "[[7, 4, 3, 6, 5, 2, 3, 8, 9, 1, 0, 3, 6, 5, 2]]"
      ]
     },
     "execution_count": 28,
     "metadata": {},
     "output_type": "execute_result"
    }
   ],
   "source": [
    "y_data"
   ]
  },
  {
   "cell_type": "code",
   "execution_count": 29,
   "metadata": {},
   "outputs": [
    {
     "name": "stderr",
     "output_type": "stream",
     "text": [
      "C:\\Users\\jinou\\AppData\\Local\\Temp/ipykernel_8652/1455435457.py:2: UserWarning: Creating a tensor from a list of numpy.ndarrays is extremely slow. Please consider converting the list to a single numpy.ndarray with numpy.array() before converting to a tensor. (Triggered internally at  ..\\torch\\csrc\\utils\\tensor_new.cpp:201.)\n",
      "  X = torch.FloatTensor(x_one_hot)\n"
     ]
    }
   ],
   "source": [
    "# transform as torch tensor variable\n",
    "X = torch.FloatTensor(x_one_hot)\n",
    "Y = torch.LongTensor(y_data)"
   ]
  },
  {
   "cell_type": "code",
   "execution_count": 30,
   "metadata": {},
   "outputs": [],
   "source": [
    "# declare RNN\n",
    "rnn = torch.nn.RNN(dic_size, hidden_size, batch_first=True)"
   ]
  },
  {
   "cell_type": "code",
   "execution_count": 31,
   "metadata": {},
   "outputs": [],
   "source": [
    "# loss & optimizer setting\n",
    "criterion = torch.nn.CrossEntropyLoss()\n",
    "optimizer = optim.Adam(rnn.parameters(), learning_rate)"
   ]
  },
  {
   "cell_type": "code",
   "execution_count": 32,
   "metadata": {
    "scrolled": true
   },
   "outputs": [
    {
     "name": "stdout",
     "output_type": "stream",
     "text": [
      "0 loss:  2.390125036239624 prediction:  [[7 0 5 7 8 7 7 7 8 5 8 7 7 8 7]] true Y:  [[7, 4, 3, 6, 5, 2, 3, 8, 9, 1, 0, 3, 6, 5, 2]] prediction str:  itoiwiiiwowiiwi\n",
      "1 loss:  2.0528852939605713 prediction:  [[7 6 5 6 5 8 5 8 6 5 8 5 6 5 8]] true Y:  [[7, 4, 3, 6, 5, 2, 3, 8, 9, 1, 0, 3, 6, 5, 2]] prediction str:  iyoyowowyowoyow\n",
      "2 loss:  1.7891815900802612 prediction:  [[7 4 1 6 5 2 5 8 3 1 6 5 6 5 2]] true Y:  [[7, 4, 3, 6, 5, 2, 3, 8, 9, 1, 0, 3, 6, 5, 2]] prediction str:  ifnyouow nyoyou\n",
      "3 loss:  1.5983966588974 prediction:  [[7 4 1 6 5 2 4 8 3 1 0 5 6 5 2]] true Y:  [[7, 4, 3, 6, 5, 2, 3, 8, 9, 1, 0, 3, 6, 5, 2]] prediction str:  ifnyoufw ntoyou\n",
      "4 loss:  1.4671063423156738 prediction:  [[7 4 1 6 5 2 2 8 3 1 0 5 6 5 2]] true Y:  [[7, 4, 3, 6, 5, 2, 3, 8, 9, 1, 0, 3, 6, 5, 2]] prediction str:  ifnyouuw ntoyou\n",
      "5 loss:  1.3683114051818848 prediction:  [[7 4 3 6 5 2 3 8 9 1 0 5 6 5 2]] true Y:  [[7, 4, 3, 6, 5, 2, 3, 8, 9, 1, 0, 3, 6, 5, 2]] prediction str:  if you wantoyou\n",
      "6 loss:  1.2907524108886719 prediction:  [[7 4 3 6 5 2 3 8 9 1 0 5 6 5 2]] true Y:  [[7, 4, 3, 6, 5, 2, 3, 8, 9, 1, 0, 3, 6, 5, 2]] prediction str:  if you wantoyou\n",
      "7 loss:  1.2295783758163452 prediction:  [[7 4 3 6 5 2 3 8 9 1 0 5 6 5 2]] true Y:  [[7, 4, 3, 6, 5, 2, 3, 8, 9, 1, 0, 3, 6, 5, 2]] prediction str:  if you wantoyou\n",
      "8 loss:  1.1918164491653442 prediction:  [[7 4 3 6 5 2 3 8 9 1 0 3 6 3 2]] true Y:  [[7, 4, 3, 6, 5, 2, 3, 8, 9, 1, 0, 3, 6, 5, 2]] prediction str:  if you want y u\n",
      "9 loss:  1.1577807664871216 prediction:  [[7 4 3 6 3 2 3 8 3 3 0 3 6 3 2]] true Y:  [[7, 4, 3, 6, 5, 2, 3, 8, 9, 1, 0, 3, 6, 5, 2]] prediction str:  if y u w  t y u\n",
      "10 loss:  1.1114943027496338 prediction:  [[7 4 3 6 5 2 3 8 3 1 0 3 6 5 2]] true Y:  [[7, 4, 3, 6, 5, 2, 3, 8, 9, 1, 0, 3, 6, 5, 2]] prediction str:  if you w nt you\n",
      "11 loss:  1.0721989870071411 prediction:  [[7 4 3 6 5 2 3 8 3 1 0 3 6 5 2]] true Y:  [[7, 4, 3, 6, 5, 2, 3, 8, 9, 1, 0, 3, 6, 5, 2]] prediction str:  if you w nt you\n",
      "12 loss:  1.0400694608688354 prediction:  [[7 4 3 6 5 2 3 8 9 1 0 3 6 5 2]] true Y:  [[7, 4, 3, 6, 5, 2, 3, 8, 9, 1, 0, 3, 6, 5, 2]] prediction str:  if you want you\n",
      "13 loss:  1.011950969696045 prediction:  [[7 4 3 6 5 2 3 8 9 1 0 3 6 5 2]] true Y:  [[7, 4, 3, 6, 5, 2, 3, 8, 9, 1, 0, 3, 6, 5, 2]] prediction str:  if you want you\n",
      "14 loss:  0.986813485622406 prediction:  [[7 4 3 6 5 2 3 8 3 1 0 3 6 5 2]] true Y:  [[7, 4, 3, 6, 5, 2, 3, 8, 9, 1, 0, 3, 6, 5, 2]] prediction str:  if you w nt you\n",
      "15 loss:  0.9625162482261658 prediction:  [[7 4 3 6 5 2 3 8 3 1 0 3 6 5 2]] true Y:  [[7, 4, 3, 6, 5, 2, 3, 8, 9, 1, 0, 3, 6, 5, 2]] prediction str:  if you w nt you\n",
      "16 loss:  0.9466388821601868 prediction:  [[7 4 3 6 5 2 5 8 3 1 0 3 6 5 2]] true Y:  [[7, 4, 3, 6, 5, 2, 3, 8, 9, 1, 0, 3, 6, 5, 2]] prediction str:  if youow nt you\n",
      "17 loss:  0.9325692057609558 prediction:  [[7 4 3 6 5 2 5 8 9 1 0 3 6 5 2]] true Y:  [[7, 4, 3, 6, 5, 2, 3, 8, 9, 1, 0, 3, 6, 5, 2]] prediction str:  if youowant you\n",
      "18 loss:  0.9236646294593811 prediction:  [[7 4 3 6 5 2 3 8 9 1 0 3 6 5 2]] true Y:  [[7, 4, 3, 6, 5, 2, 3, 8, 9, 1, 0, 3, 6, 5, 2]] prediction str:  if you want you\n",
      "19 loss:  0.9158502817153931 prediction:  [[7 4 3 6 5 2 3 8 9 1 0 3 6 5 2]] true Y:  [[7, 4, 3, 6, 5, 2, 3, 8, 9, 1, 0, 3, 6, 5, 2]] prediction str:  if you want you\n",
      "20 loss:  0.9049813151359558 prediction:  [[7 4 3 6 5 2 3 8 9 1 0 3 6 5 2]] true Y:  [[7, 4, 3, 6, 5, 2, 3, 8, 9, 1, 0, 3, 6, 5, 2]] prediction str:  if you want you\n",
      "21 loss:  0.8919133543968201 prediction:  [[7 4 3 6 5 2 3 8 9 1 0 3 6 5 2]] true Y:  [[7, 4, 3, 6, 5, 2, 3, 8, 9, 1, 0, 3, 6, 5, 2]] prediction str:  if you want you\n",
      "22 loss:  0.8831873536109924 prediction:  [[7 4 3 6 5 2 3 8 9 1 0 3 6 5 2]] true Y:  [[7, 4, 3, 6, 5, 2, 3, 8, 9, 1, 0, 3, 6, 5, 2]] prediction str:  if you want you\n",
      "23 loss:  0.876636803150177 prediction:  [[7 4 3 6 5 2 3 8 9 1 0 3 6 5 2]] true Y:  [[7, 4, 3, 6, 5, 2, 3, 8, 9, 1, 0, 3, 6, 5, 2]] prediction str:  if you want you\n",
      "24 loss:  0.8671222925186157 prediction:  [[7 4 3 6 5 2 3 8 9 1 0 3 6 5 2]] true Y:  [[7, 4, 3, 6, 5, 2, 3, 8, 9, 1, 0, 3, 6, 5, 2]] prediction str:  if you want you\n",
      "25 loss:  0.8627094626426697 prediction:  [[7 4 3 6 5 2 3 8 9 1 0 3 6 5 2]] true Y:  [[7, 4, 3, 6, 5, 2, 3, 8, 9, 1, 0, 3, 6, 5, 2]] prediction str:  if you want you\n",
      "26 loss:  0.8561469316482544 prediction:  [[7 4 3 6 5 2 3 8 9 1 0 3 6 5 2]] true Y:  [[7, 4, 3, 6, 5, 2, 3, 8, 9, 1, 0, 3, 6, 5, 2]] prediction str:  if you want you\n",
      "27 loss:  0.848318874835968 prediction:  [[7 4 3 6 5 2 3 8 9 1 0 3 6 5 2]] true Y:  [[7, 4, 3, 6, 5, 2, 3, 8, 9, 1, 0, 3, 6, 5, 2]] prediction str:  if you want you\n",
      "28 loss:  0.8427135944366455 prediction:  [[7 4 3 6 5 2 3 8 9 1 0 3 6 5 2]] true Y:  [[7, 4, 3, 6, 5, 2, 3, 8, 9, 1, 0, 3, 6, 5, 2]] prediction str:  if you want you\n",
      "29 loss:  0.8411865830421448 prediction:  [[7 4 3 6 5 2 3 8 9 1 0 3 6 5 2]] true Y:  [[7, 4, 3, 6, 5, 2, 3, 8, 9, 1, 0, 3, 6, 5, 2]] prediction str:  if you want you\n",
      "30 loss:  0.8361945748329163 prediction:  [[7 4 3 6 5 2 3 8 9 1 0 3 6 5 2]] true Y:  [[7, 4, 3, 6, 5, 2, 3, 8, 9, 1, 0, 3, 6, 5, 2]] prediction str:  if you want you\n",
      "31 loss:  0.8342934250831604 prediction:  [[7 4 3 6 5 2 3 8 9 1 0 3 6 5 2]] true Y:  [[7, 4, 3, 6, 5, 2, 3, 8, 9, 1, 0, 3, 6, 5, 2]] prediction str:  if you want you\n",
      "32 loss:  0.8334311842918396 prediction:  [[7 4 3 6 5 2 3 8 9 1 0 3 6 5 2]] true Y:  [[7, 4, 3, 6, 5, 2, 3, 8, 9, 1, 0, 3, 6, 5, 2]] prediction str:  if you want you\n",
      "33 loss:  0.8317590355873108 prediction:  [[7 4 3 6 5 2 3 8 9 1 0 3 6 5 2]] true Y:  [[7, 4, 3, 6, 5, 2, 3, 8, 9, 1, 0, 3, 6, 5, 2]] prediction str:  if you want you\n",
      "34 loss:  0.8294466733932495 prediction:  [[7 4 3 6 5 2 3 8 9 1 0 3 6 5 2]] true Y:  [[7, 4, 3, 6, 5, 2, 3, 8, 9, 1, 0, 3, 6, 5, 2]] prediction str:  if you want you\n",
      "35 loss:  0.8277142643928528 prediction:  [[7 4 3 6 5 2 3 8 9 1 0 3 6 5 2]] true Y:  [[7, 4, 3, 6, 5, 2, 3, 8, 9, 1, 0, 3, 6, 5, 2]] prediction str:  if you want you\n",
      "36 loss:  0.82721346616745 prediction:  [[7 4 3 6 5 2 3 8 9 1 0 3 6 5 2]] true Y:  [[7, 4, 3, 6, 5, 2, 3, 8, 9, 1, 0, 3, 6, 5, 2]] prediction str:  if you want you\n",
      "37 loss:  0.8255910277366638 prediction:  [[7 4 3 6 5 2 3 8 9 1 0 3 6 5 2]] true Y:  [[7, 4, 3, 6, 5, 2, 3, 8, 9, 1, 0, 3, 6, 5, 2]] prediction str:  if you want you\n",
      "38 loss:  0.8240165114402771 prediction:  [[7 4 3 6 5 2 3 8 9 1 0 3 6 5 2]] true Y:  [[7, 4, 3, 6, 5, 2, 3, 8, 9, 1, 0, 3, 6, 5, 2]] prediction str:  if you want you\n",
      "39 loss:  0.8234274387359619 prediction:  [[7 4 3 6 5 2 3 8 9 1 0 3 6 5 2]] true Y:  [[7, 4, 3, 6, 5, 2, 3, 8, 9, 1, 0, 3, 6, 5, 2]] prediction str:  if you want you\n",
      "40 loss:  0.822706937789917 prediction:  [[7 4 3 6 5 2 3 8 9 1 0 3 6 5 2]] true Y:  [[7, 4, 3, 6, 5, 2, 3, 8, 9, 1, 0, 3, 6, 5, 2]] prediction str:  if you want you\n",
      "41 loss:  0.8215175867080688 prediction:  [[7 4 3 6 5 2 3 8 9 1 0 3 6 5 2]] true Y:  [[7, 4, 3, 6, 5, 2, 3, 8, 9, 1, 0, 3, 6, 5, 2]] prediction str:  if you want you\n",
      "42 loss:  0.8205481767654419 prediction:  [[7 4 3 6 5 2 3 8 9 1 0 3 6 5 2]] true Y:  [[7, 4, 3, 6, 5, 2, 3, 8, 9, 1, 0, 3, 6, 5, 2]] prediction str:  if you want you\n",
      "43 loss:  0.8203060626983643 prediction:  [[7 4 3 6 5 2 3 8 9 1 0 3 6 5 2]] true Y:  [[7, 4, 3, 6, 5, 2, 3, 8, 9, 1, 0, 3, 6, 5, 2]] prediction str:  if you want you\n",
      "44 loss:  0.8193731904029846 prediction:  [[7 4 3 6 5 2 3 8 9 1 0 3 6 5 2]] true Y:  [[7, 4, 3, 6, 5, 2, 3, 8, 9, 1, 0, 3, 6, 5, 2]] prediction str:  if you want you\n",
      "45 loss:  0.818623423576355 prediction:  [[7 4 3 6 5 2 3 8 9 1 0 3 6 5 2]] true Y:  [[7, 4, 3, 6, 5, 2, 3, 8, 9, 1, 0, 3, 6, 5, 2]] prediction str:  if you want you\n",
      "46 loss:  0.8183450102806091 prediction:  [[7 4 3 6 5 2 3 8 9 1 0 3 6 5 2]] true Y:  [[7, 4, 3, 6, 5, 2, 3, 8, 9, 1, 0, 3, 6, 5, 2]] prediction str:  if you want you\n",
      "47 loss:  0.8178272843360901 prediction:  [[7 4 3 6 5 2 3 8 9 1 0 3 6 5 2]] true Y:  [[7, 4, 3, 6, 5, 2, 3, 8, 9, 1, 0, 3, 6, 5, 2]] prediction str:  if you want you\n",
      "48 loss:  0.8171402215957642 prediction:  [[7 4 3 6 5 2 3 8 9 1 0 3 6 5 2]] true Y:  [[7, 4, 3, 6, 5, 2, 3, 8, 9, 1, 0, 3, 6, 5, 2]] prediction str:  if you want you\n",
      "49 loss:  0.8168222904205322 prediction:  [[7 4 3 6 5 2 3 8 9 1 0 3 6 5 2]] true Y:  [[7, 4, 3, 6, 5, 2, 3, 8, 9, 1, 0, 3, 6, 5, 2]] prediction str:  if you want you\n"
     ]
    }
   ],
   "source": [
    "# start training\n",
    "for i in range(50):\n",
    "    optimizer.zero_grad()\n",
    "    outputs, _status = rnn(X)\n",
    "    loss = criterion(outputs.view(-1, dic_size), Y.view(-1))\n",
    "    loss.backward()\n",
    "    optimizer.step()\n",
    "\n",
    "    result = outputs.data.numpy().argmax(axis=2) #index가 2, 가장 큰 값을 가지는 인텍스를 가져온다?\n",
    "    result_str = ''.join([char_set[c] for c in np.squeeze(result)])\n",
    "    print(i, \"loss: \", loss.item(), \"prediction: \", result, \"true Y: \", y_data, \"prediction str: \", result_str)"
   ]
  },
  {
   "cell_type": "code",
   "execution_count": null,
   "metadata": {},
   "outputs": [],
   "source": []
  }
 ],
 "metadata": {
  "kernelspec": {
   "display_name": "Python 3 (ipykernel)",
   "language": "python",
   "name": "python3"
  },
  "language_info": {
   "codemirror_mode": {
    "name": "ipython",
    "version": 3
   },
   "file_extension": ".py",
   "mimetype": "text/x-python",
   "name": "python",
   "nbconvert_exporter": "python",
   "pygments_lexer": "ipython3",
   "version": "3.9.7"
  }
 },
 "nbformat": 4,
 "nbformat_minor": 2
}
